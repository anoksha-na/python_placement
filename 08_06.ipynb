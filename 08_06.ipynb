{
  "nbformat": 4,
  "nbformat_minor": 0,
  "metadata": {
    "colab": {
      "provenance": []
    },
    "kernelspec": {
      "name": "python3",
      "display_name": "Python 3"
    },
    "language_info": {
      "name": "python"
    }
  },
  "cells": [
    {
      "cell_type": "code",
      "execution_count": 1,
      "metadata": {
        "id": "hHesiGFF6RIR"
      },
      "outputs": [],
      "source": [
        "#1 write a python pgrm to find the best of 2 test avg marks out of 3 test marks accepted from the user"
      ]
    },
    {
      "cell_type": "code",
      "source": [
        "#2 develop a python pgrm to convert a binary no. into a decimal, octal and hexa decimal no.s using functions\n",
        "bi=input(\"enter bin no. : \")\n",
        "dec = int(bi,2)\n",
        "he = hex(dec)[2:]\n",
        "oc = oct(dec)[2:]\n",
        "\n",
        "print(\"dec : \",dec,\"\\nhexa : \",he,\"\\noctal : \",oc)"
      ],
      "metadata": {
        "colab": {
          "base_uri": "https://localhost:8080/"
        },
        "id": "DECHkNBcX5Lz",
        "outputId": "cdd5f48b-b6a5-47c5-c702-e4e5d02ab10c"
      },
      "execution_count": null,
      "outputs": [
        {
          "output_type": "stream",
          "name": "stdout",
          "text": [
            "enter bin no. : 10110\n",
            "dec :  22 \n",
            "hexa :  16 \n",
            "octal :  26\n"
          ]
        }
      ]
    },
    {
      "cell_type": "code",
      "source": [
        "#3 define as a function F as Fn = Fn-1 + Fn-2. Write a pgrm which accepts a value for N (N>0) as i/p & pass this value to he function. Display suitable error messgae if the condition for i/p isn't followed"
      ],
      "metadata": {
        "id": "A4bT0Yh6YKKN"
      },
      "execution_count": null,
      "outputs": []
    },
    {
      "cell_type": "code",
      "source": [
        "#4 pgrm to find string similarity btw 2 given strings"
      ],
      "metadata": {
        "id": "Frs13Lf4YnyG"
      },
      "execution_count": null,
      "outputs": []
    },
    {
      "cell_type": "code",
      "source": [
        "#5 pgrm that accepts a sentence and finds the no. of words, digits, uppercase letters and lowercase letters\n",
        "s=input(\"enter sentence : \")\n",
        "l=[]\n",
        "wc,dc,uc,lc=0,0,0,0\n",
        "l=s.split()\n",
        "wc = len(l)  #word count\n",
        "for i in s:\n",
        "    if i.isdigit():\n",
        "        dc+=1\n",
        "    if i.isupper():\n",
        "        uc+=1\n",
        "    if i.islower():\n",
        "        lc+=1\n",
        "print(\"Words : \",wc,\"\\nDigits : \",dc,\"\\nUppercase : \",uc,\"\\nLowecase : \",lc)"
      ],
      "metadata": {
        "colab": {
          "base_uri": "https://localhost:8080/"
        },
        "id": "8lDQ2zDfY5Io",
        "outputId": "98ac09f6-7671-4bbf-ad7c-d85bc9f4b7db"
      },
      "execution_count": null,
      "outputs": [
        {
          "output_type": "stream",
          "name": "stdout",
          "text": [
            "enter sentence : heYY 123 how r U welCOme backK\n",
            "Words :  7 \n",
            "Digits :  3 \n",
            "Uppercase :  6 \n",
            "Lowecase :  15\n"
          ]
        }
      ]
    },
    {
      "cell_type": "code",
      "source": [
        "\"\"\" 6\n",
        "*\n",
        "* *\n",
        "* * *\n",
        "* * * *\n",
        "* * * * *\n",
        "\"\"\"\n",
        "n=int(input(\"enter rows and colms : \")) #no. of rows = no. of columns\n",
        "for i in range(0,n):        #i for rows\n",
        "    for j in range(0,i+1):    #j for columns\n",
        "        print(\"*\",end=\" \")\n",
        "    print()\n",
        "\"\"\"\n",
        "n=int(input(\"enter rows and colms : \")) #no. of rows = no. of columns\n",
        "for i in range(0,n):        #i for rows\n",
        "    for j in range(0,n):    #j for columns\n",
        "        if (j<=i):\n",
        "            print(\"*\",end=\" \")\n",
        "    print()\n",
        "\"\"\""
      ],
      "metadata": {
        "colab": {
          "base_uri": "https://localhost:8080/",
          "height": 139
        },
        "id": "Wl5IIv0vZT4S",
        "outputId": "dc8f31b5-b5b2-4eca-bbca-2c806b4b5e4a"
      },
      "execution_count": null,
      "outputs": [
        {
          "output_type": "stream",
          "name": "stdout",
          "text": [
            "enter rows and colms : 5\n",
            "* \n",
            "* * \n",
            "* * * \n",
            "* * * * \n",
            "* * * * * \n"
          ]
        },
        {
          "output_type": "execute_result",
          "data": {
            "text/plain": [
              "'\\nn=int(input(\"enter rows and colms : \")) #no. of rows = no. of columns\\nfor i in range(0,n):        #i for rows\\n    for j in range(0,n):    #j for columns\\n        if (j<=i):\\n            print(\"*\",end=\" \")     \\n    print()\\n'"
            ],
            "application/vnd.google.colaboratory.intrinsic+json": {
              "type": "string"
            }
          },
          "metadata": {},
          "execution_count": 7
        }
      ]
    },
    {
      "cell_type": "code",
      "source": [
        "\"\"\" 7\n",
        "            *\n",
        "         * *\n",
        "      * * *\n",
        "   * * * *\n",
        "* * * * *\n",
        "\"\"\"\n",
        "n = int(input())\n",
        "for i in range(n):\n",
        "    for j in range(n):\n",
        "        if (i + j) >= (n - 1):\n",
        "            print(\"*\", end=\" \")\n",
        "        else:\n",
        "            print(\"  \", end=\" \")\n",
        "    print()"
      ],
      "metadata": {
        "colab": {
          "base_uri": "https://localhost:8080/"
        },
        "id": "hbUFCM9baGJ_",
        "outputId": "c384b97b-a894-436f-d507-186dc1b9d09d"
      },
      "execution_count": 8,
      "outputs": [
        {
          "output_type": "stream",
          "name": "stdout",
          "text": [
            "5\n",
            "            * \n",
            "         * * \n",
            "      * * * \n",
            "   * * * * \n",
            "* * * * * \n"
          ]
        }
      ]
    },
    {
      "cell_type": "code",
      "source": [
        "\"\"\"8\n",
        "* * * * *\n",
        "   * * * *\n",
        "      * * *\n",
        "         * *\n",
        "            *\n",
        "\"\"\"\n",
        "n=int(input(\"enter rows and colms : \")) #no. of rows = no. of columns\n",
        "for i in range(0,n):        #i for rows\n",
        "    for j in range(0,n):    #j for columns\n",
        "        if (j>=i):\n",
        "            print(\"*\",end=\" \")\n",
        "        else:\n",
        "            print(\"  \",end=\" \")\n",
        "    print()"
      ],
      "metadata": {
        "colab": {
          "base_uri": "https://localhost:8080/"
        },
        "id": "AmgxXDn7aesY",
        "outputId": "d6994249-921f-45ec-97a7-bf22a531c5ca"
      },
      "execution_count": 9,
      "outputs": [
        {
          "output_type": "stream",
          "name": "stdout",
          "text": [
            "enter rows and colms : 5\n",
            "* * * * * \n",
            "   * * * * \n",
            "      * * * \n",
            "         * * \n",
            "            * \n"
          ]
        }
      ]
    },
    {
      "cell_type": "code",
      "source": [
        "\"\"\"9\n",
        "* * * * *\n",
        "* * * *\n",
        "* * *\n",
        "* *\n",
        "*\n",
        "\"\"\"\n",
        "n=int(input(\"enter rows and colms : \")) #no. of rows = no. of columns\n",
        "for i in range(0,n):        #i for rows\n",
        "    for j in range(0,n):    #j for columns\n",
        "        if (j>=i):\n",
        "            print(\"*\",end=\" \")\n",
        "    print()"
      ],
      "metadata": {
        "colab": {
          "base_uri": "https://localhost:8080/"
        },
        "id": "gvwy1s7Yavcm",
        "outputId": "65b80fb4-c8b9-4cb2-c91b-cb505b45f6cd"
      },
      "execution_count": 10,
      "outputs": [
        {
          "output_type": "stream",
          "name": "stdout",
          "text": [
            "enter rows and colms : 5\n",
            "* * * * * \n",
            "* * * * \n",
            "* * * \n",
            "* * \n",
            "* \n"
          ]
        }
      ]
    },
    {
      "cell_type": "code",
      "source": [
        "\"\"\"10\n",
        "* * * * *\n",
        "* * * * *\n",
        "* * * * *\n",
        "* * * * *\n",
        "* * * * *\n",
        "\"\"\"\n",
        "n=int(input(\"enter rows and colms : \")) #no. of rows = no. of columns\n",
        "for i in range(0,n):        #i for rows\n",
        "    for j in range(0,n):    #j for columns\n",
        "        print(\"*\",end=\" \")\n",
        "    print()"
      ],
      "metadata": {
        "colab": {
          "base_uri": "https://localhost:8080/"
        },
        "id": "1PPY5d2ma_M6",
        "outputId": "e3ee3900-0ded-423b-b78f-83286a93ed90"
      },
      "execution_count": null,
      "outputs": [
        {
          "output_type": "stream",
          "name": "stdout",
          "text": [
            "enter rows and colms : 5\n",
            "* * * * * \n",
            "* * * * * \n",
            "* * * * * \n",
            "* * * * * \n",
            "* * * * * \n"
          ]
        }
      ]
    },
    {
      "cell_type": "code",
      "source": [
        "\"\"\"11\n",
        "1\n",
        "1 2\n",
        "1 2 3\n",
        "1 2 3 4\n",
        "1 2 3 4 5\n",
        "\"\"\"\n",
        "n=int(input(\"enter rows and colms : \")) #no. of rows = no. of columns\n",
        "for i in range(0,n):        #i for rows\n",
        "    for j in range(0,n):    #j for columns\n",
        "        if (j<=i):\n",
        "            print(j+1,end=\" \")\n",
        "    print()"
      ],
      "metadata": {
        "colab": {
          "base_uri": "https://localhost:8080/"
        },
        "id": "k-Iz5Us0bO99",
        "outputId": "30a36f6e-42bb-489a-f0e7-760b7450336e"
      },
      "execution_count": null,
      "outputs": [
        {
          "output_type": "stream",
          "name": "stdout",
          "text": [
            "enter rows and colms : 5\n",
            "1 \n",
            "1 2 \n",
            "1 2 3 \n",
            "1 2 3 4 \n",
            "1 2 3 4 5 \n"
          ]
        }
      ]
    },
    {
      "cell_type": "code",
      "source": [
        "\"\"\"12\n",
        "1\n",
        "2 2\n",
        "3 3 3\n",
        "4 4 4 4\n",
        "5 5 5 5 5\n",
        "\"\"\"\n",
        "n=int(input(\"enter rows and colms : \")) #no. of rows = no. of columns\n",
        "for i in range(0,n):        #i for rows\n",
        "    for j in range(0,n):    #j for columns\n",
        "        if (j<=i):\n",
        "            print(i+1,end=\" \")\n",
        "    print()"
      ],
      "metadata": {
        "colab": {
          "base_uri": "https://localhost:8080/"
        },
        "id": "lOWkOyZYbT_4",
        "outputId": "f2e1f1bf-82a3-45d9-960c-6d52706f1d79"
      },
      "execution_count": null,
      "outputs": [
        {
          "output_type": "stream",
          "name": "stdout",
          "text": [
            "enter rows and colms : 5\n",
            "1 \n",
            "2 2 \n",
            "3 3 3 \n",
            "4 4 4 4 \n",
            "5 5 5 5 5 \n"
          ]
        }
      ]
    },
    {
      "cell_type": "code",
      "source": [
        "\"\"\"13\n",
        "* * * * *\n",
        "*           *\n",
        "*           *\n",
        "*           *\n",
        "* * * * *\n",
        "\"\"\"\n",
        "n=int(input(\"enter rows and colms : \"))\n",
        "for i in range(0,n):\n",
        "    for j in range(0,n):\n",
        "        if ((i==0) or (i==n-1) or (j==0) or j==(n-1)):\n",
        "            print(\"*\",end=\" \")\n",
        "        else:\n",
        "            print(\"  \", end=\" \")\n",
        "    print()"
      ],
      "metadata": {
        "colab": {
          "base_uri": "https://localhost:8080/"
        },
        "id": "JHOQTirdbdEm",
        "outputId": "e6cdd823-32fc-4546-c699-6896295f1666"
      },
      "execution_count": 6,
      "outputs": [
        {
          "output_type": "stream",
          "name": "stdout",
          "text": [
            "enter rows and colms : 5\n",
            "* * * * * \n",
            "*          * \n",
            "*          * \n",
            "*          * \n",
            "* * * * * \n"
          ]
        }
      ]
    },
    {
      "cell_type": "code",
      "source": [
        "\"\"\"14\n",
        "* * * * *\n",
        "* *    *  *\n",
        "*    *    *\n",
        "* *    *  *\n",
        "* * * * *\n",
        "\"\"\"\n",
        "n=int(input(\"enter rows and colms : \"))\n",
        "for i in range(0,n):\n",
        "    for j in range(0,n):\n",
        "        if ((i==0) or (i==n-1) or (i==j) or (i+j == n-1)):\n",
        "            print(\"*\",end=\" \")\n",
        "        else:\n",
        "            if (j==0 or j==(n-1)):\n",
        "                print(\"*\", end=\" \")\n",
        "            else:\n",
        "                print(\"  \", end=\" \")\n",
        "    print()"
      ],
      "metadata": {
        "colab": {
          "base_uri": "https://localhost:8080/"
        },
        "id": "9SMSNp7Kb1Co",
        "outputId": "aa761f56-52a6-4773-d552-b33c2385bfbb"
      },
      "execution_count": 7,
      "outputs": [
        {
          "output_type": "stream",
          "name": "stdout",
          "text": [
            "enter rows and colms : 5\n",
            "* * * * * \n",
            "* *    * * \n",
            "*    *    * \n",
            "* *    * * \n",
            "* * * * * \n"
          ]
        }
      ]
    },
    {
      "cell_type": "code",
      "source": [
        "\"\"\"15\n",
        "1  2  3  4\n",
        "5  6  7  8\n",
        "9 10 11 12\n",
        "13 14 15 16\n",
        "\"\"\"\n",
        "n=int(input(\"enter rows and colms : \")) #no. of rows = no. of columns\n",
        "k=0\n",
        "for i in range(0,n):        #i for rows\n",
        "    for j in range(0,n):    #j for columns\n",
        "        print(k+1,end=\" \")\n",
        "        k+=1\n",
        "    print()"
      ],
      "metadata": {
        "colab": {
          "base_uri": "https://localhost:8080/"
        },
        "id": "NxET3xEccEud",
        "outputId": "95c99512-fcae-4d26-ab35-87d992fee02a"
      },
      "execution_count": null,
      "outputs": [
        {
          "output_type": "stream",
          "name": "stdout",
          "text": [
            "enter rows and colms : 4\n",
            "1 2 3 4 \n",
            "5 6 7 8 \n",
            "9 10 11 12 \n",
            "13 14 15 16 \n"
          ]
        }
      ]
    },
    {
      "cell_type": "code",
      "source": [
        "\"\"\"16 -take user i/p for what char to be printed\n",
        "A A A A A\n",
        "A A A A A\n",
        "A A A A A\n",
        "A A A A A\n",
        "A A A A A\n",
        "\"\"\"\n",
        "n=int(input(\"enter rows and colms : \")) #no. of rows = no. of columns\n",
        "char = input(\"enter char : \")\n",
        "for i in range(0,n):        #i for rows\n",
        "    for j in range(0,n):    #j for columns\n",
        "        print(char,end=\" \")\n",
        "    print()"
      ],
      "metadata": {
        "colab": {
          "base_uri": "https://localhost:8080/"
        },
        "id": "JXf0uBpdcQHK",
        "outputId": "ccf5a274-c385-4740-fa05-e6074643ecba"
      },
      "execution_count": null,
      "outputs": [
        {
          "output_type": "stream",
          "name": "stdout",
          "text": [
            "enter rows and colms : 5\n",
            "enter char : A\n",
            "A A A A A \n",
            "A A A A A \n",
            "A A A A A \n",
            "A A A A A \n",
            "A A A A A \n"
          ]
        }
      ]
    },
    {
      "cell_type": "code",
      "source": [
        "#17 pgrm to read a string from user and implement the logic to remove the characters which are at the odd numbers of the index\n",
        "s=input(\"enter str : \")\n",
        "l=len(s)\n",
        "res=\"\"\n",
        "for i in range(0,l):\n",
        "    if(i%2==0):\n",
        "        res+=s[i]\n",
        "print(res)"
      ],
      "metadata": {
        "colab": {
          "base_uri": "https://localhost:8080/"
        },
        "id": "bCaOVqMVJBhp",
        "outputId": "b177b0c0-2626-49a4-b55e-cbdb13ee179e"
      },
      "execution_count": null,
      "outputs": [
        {
          "output_type": "stream",
          "name": "stdout",
          "text": [
            "enter str : hello\n",
            "hlo\n"
          ]
        }
      ]
    },
    {
      "cell_type": "code",
      "source": [
        "#18 pgrm to swap 2 no.s using a 3rd variable\n",
        "a=int(input(\"num1 : \"))\n",
        "b=int(input(\"num2 : \"))\n",
        "print(\"old : a -\",a,\"b -\",b)\n",
        "temp=a\n",
        "a=b\n",
        "b=temp\n",
        "print(\"new : a -\",a,\"b -\",b)"
      ],
      "metadata": {
        "colab": {
          "base_uri": "https://localhost:8080/"
        },
        "id": "LGF3Vdb0Jfs6",
        "outputId": "9d741293-9a6f-4866-d79c-49ff0fc88ca8"
      },
      "execution_count": null,
      "outputs": [
        {
          "output_type": "stream",
          "name": "stdout",
          "text": [
            "num1 : 4\n",
            "num2 : 8\n",
            "old : a - 4 b - 8\n",
            "new : a - 8 b - 4\n"
          ]
        }
      ]
    },
    {
      "cell_type": "code",
      "source": [
        "#19 pgrm to swap 2 no.s without using a 3rd variable\n",
        "a=int(input(\"num1 : \"))\n",
        "b=int(input(\"num2 : \"))\n",
        "print(\"old : a -\",a,\"b -\",b)\n",
        "a=a+b\n",
        "b=a-b\n",
        "a=a-b\n",
        "print(\"new : a -\",a,\"b -\",b)"
      ],
      "metadata": {
        "colab": {
          "base_uri": "https://localhost:8080/"
        },
        "id": "ge8R_MFyU_lw",
        "outputId": "320f0b33-7237-43dd-bc57-484dd673764b"
      },
      "execution_count": null,
      "outputs": [
        {
          "output_type": "stream",
          "name": "stdout",
          "text": [
            "num1 : 20\n",
            "num2 : 2\n",
            "old : a - 20 b - 2\n",
            "new : a - 2 b - 20\n"
          ]
        }
      ]
    }
  ]
}