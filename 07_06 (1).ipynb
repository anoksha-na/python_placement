{
  "nbformat": 4,
  "nbformat_minor": 0,
  "metadata": {
    "colab": {
      "provenance": []
    },
    "kernelspec": {
      "name": "python3",
      "display_name": "Python 3"
    },
    "language_info": {
      "name": "python"
    }
  },
  "cells": [
    {
      "cell_type": "code",
      "execution_count": 2,
      "metadata": {
        "colab": {
          "base_uri": "https://localhost:8080/"
        },
        "id": "CGg0JNQHcGEa",
        "outputId": "628f813d-07e8-4b07-f2ba-09bba93133fb"
      },
      "outputs": [
        {
          "output_type": "stream",
          "name": "stdout",
          "text": [
            "name :alex\n",
            "yr : 2002\n",
            "The person alex born in 2002 is 22 years old\n"
          ]
        }
      ],
      "source": [
        "#1 write a python code to read the name and year of birth of a person and calculate his age in 2024\n",
        "name=input(\"name :\")\n",
        "yr=int(input(\"yr : \"))\n",
        "age=2024-yr\n",
        "print(\"The person\",name,\"born in\",yr,\"is\",age,\"years old\")"
      ]
    },
    {
      "cell_type": "code",
      "source": [
        "#Read the marks if a student. If it's greater than 80 - distinction, between 60 and 80 - pass , less than 60 - fail and otherwise invalid\n",
        "m=int(input(\"enter marks : \"))\n",
        "if (m>=80 and m<=100):\n",
        "  print(\"distinction\")\n",
        "elif (m>=60 and m<80):\n",
        "  print(\"pass\")\n",
        "elif(m<60):\n",
        "  print(\"fail\")\n",
        "else:\n",
        "  print(\"invalid\")"
      ],
      "metadata": {
        "colab": {
          "base_uri": "https://localhost:8080/"
        },
        "id": "ryJPp1KXv_SV",
        "outputId": "9c6d084d-3889-43ce-b720-841733e94e7d"
      },
      "execution_count": 5,
      "outputs": [
        {
          "output_type": "stream",
          "name": "stdout",
          "text": [
            "enter marks : 50\n",
            "fail\n"
          ]
        }
      ]
    },
    {
      "cell_type": "code",
      "source": [
        "#3 write a prgm to check if a number is prime or not\n",
        "n=int(input(\"Enter the no. : \"))\n",
        "f=0\n",
        "for i in range(2,n):\n",
        "  if (n%i == 0):\n",
        "    f=1\n",
        "    break\n",
        "if (f==1):\n",
        "    print(\"not prime\")\n",
        "else:\n",
        "    print(\"prime\")"
      ],
      "metadata": {
        "colab": {
          "base_uri": "https://localhost:8080/"
        },
        "id": "8V_kBI8A0CYs",
        "outputId": "70575a8e-1532-497f-86f9-edfb18895417"
      },
      "execution_count": 6,
      "outputs": [
        {
          "output_type": "stream",
          "name": "stdout",
          "text": [
            "Enter the no. : 9\n",
            "not prime\n"
          ]
        }
      ]
    },
    {
      "cell_type": "code",
      "source": [
        "#4 write a prgm to generate all prime no.'s from 1 - n (btw start and end ranges)\n",
        "start=int(input(\"enter sr. : \"))\n",
        "end=int(input(\"enter en : \"))\n",
        "c=0\n",
        "for num in range(start, end + 1):\n",
        "    if num > 1:\n",
        "        for i in range(2,num):\n",
        "            if (num % i) == 0:\n",
        "                break\n",
        "        else:\n",
        "            print(num)\n",
        "            c+=1\n",
        "print(\"count : \",c)"
      ],
      "metadata": {
        "id": "QkQoIOwH0SwR",
        "colab": {
          "base_uri": "https://localhost:8080/"
        },
        "outputId": "2bdfea36-d3b1-4bd2-9eaa-e9573af84bd9"
      },
      "execution_count": 7,
      "outputs": [
        {
          "output_type": "stream",
          "name": "stdout",
          "text": [
            "enter sr. : 1\n",
            "enter en : 10\n",
            "2\n",
            "3\n",
            "5\n",
            "7\n",
            "count :  4\n"
          ]
        }
      ]
    },
    {
      "cell_type": "code",
      "source": [
        "#5 to check whether a no. is strong no. or not : a no. whose sum of factorial of individual digits is equal to the no. itself\n",
        "sum = 0\n",
        "n=int(input(\"enter the no. : \"))\n",
        "temp = n\n",
        "\n",
        "def fact(n):\n",
        "    if (n==0):\n",
        "        return 1\n",
        "    if(n==1):\n",
        "        return 1\n",
        "    f = n * fact(n-1)\n",
        "    return f\n",
        "\n",
        "while(n):\n",
        "    new = n%10\n",
        "    fc = fact(new)\n",
        "    sum+=fc\n",
        "    n=n//10\n",
        "\n",
        "if(sum==temp):\n",
        "    print(\"strong\")\n",
        "else:\n",
        "    print(\"not strong\")"
      ],
      "metadata": {
        "colab": {
          "base_uri": "https://localhost:8080/"
        },
        "id": "WLA7rGG10fYl",
        "outputId": "2cd4bad3-ee8c-4a67-d0ff-fdf5a9d9cf74"
      },
      "execution_count": null,
      "outputs": [
        {
          "output_type": "stream",
          "name": "stdout",
          "text": [
            "enter the no. : 145\n",
            "strong\n"
          ]
        }
      ]
    },
    {
      "cell_type": "code",
      "source": [
        "#6 to check if the no. is armstrong no. or not : sum of each digit raised to the power of length of the int\n",
        "sum = 0\n",
        "n=int(input(\"enter the no. : \"))\n",
        "num=str(n)\n",
        "temp = n\n",
        "l=len(num)\n",
        "\n",
        "while(n):\n",
        "    new = n%10\n",
        "    r = new ** l\n",
        "    sum+=r\n",
        "    n=n//10\n",
        "\n",
        "if(sum==temp):\n",
        "    print(\"armstrong\")\n",
        "else:\n",
        "    print(\"not armstrong\")"
      ],
      "metadata": {
        "colab": {
          "base_uri": "https://localhost:8080/"
        },
        "id": "w-zwsuIY0lGP",
        "outputId": "e93b9e33-eb37-4971-d44b-5cf2b6f36c0c"
      },
      "execution_count": null,
      "outputs": [
        {
          "output_type": "stream",
          "name": "stdout",
          "text": [
            "enter the no. : 407\n",
            "armstrong\n"
          ]
        }
      ]
    },
    {
      "cell_type": "code",
      "source": [
        "#7 to check if a no. is happy no. or not :\n",
        "n=int(input(\"enter no. : \"))\n",
        "temp = n\n",
        "def hap(n):\n",
        "    sum=0\n",
        "    while(n!=0):\n",
        "        new = n%10\n",
        "        s1 = new*new\n",
        "        sum+=s1\n",
        "        n=n//10\n",
        "    return sum\n",
        "\n",
        "while(temp!=1 and temp!=4):\n",
        "    temp = hap(temp)\n",
        "\n",
        "if (temp==1):\n",
        "    print(\"True\")\n",
        "if (temp==4):\n",
        "    print(\"False\")"
      ],
      "metadata": {
        "colab": {
          "base_uri": "https://localhost:8080/"
        },
        "id": "aVTEE43W0wWz",
        "outputId": "9b6f79be-caec-43e2-d94f-e50ca0cc2de7"
      },
      "execution_count": null,
      "outputs": [
        {
          "output_type": "stream",
          "name": "stdout",
          "text": [
            "enter no. : 100\n",
            "True\n"
          ]
        }
      ]
    },
    {
      "cell_type": "code",
      "source": [
        "#8 to check if a no. is neon no. or not : sum of individual digits of square of the given no.\n",
        "n=int(input(\"enter no. : \"))\n",
        "n1 = n*n\n",
        "temp = n1\n",
        "sum=0\n",
        "while(n1):\n",
        "    r = n1%10\n",
        "    sum = sum+r\n",
        "    n1=n1//10\n",
        "\n",
        "if (sum==n):\n",
        "    print(\"neon\")\n",
        "else:\n",
        "    print(\"not neon\")"
      ],
      "metadata": {
        "colab": {
          "base_uri": "https://localhost:8080/"
        },
        "id": "C-6Bx0kd06y2",
        "outputId": "cafbc9d9-3c03-41b9-9011-c993d7e3a3b1"
      },
      "execution_count": 8,
      "outputs": [
        {
          "output_type": "stream",
          "name": "stdout",
          "text": [
            "enter no. : 9\n",
            "neon\n"
          ]
        }
      ]
    },
    {
      "cell_type": "code",
      "source": [
        "#9 to check if a no. is spy no. or not : sum of all digits = product of all the digits\n",
        "n=int(input(\"enter no. : \"))\n",
        "temp = n\n",
        "sum=0\n",
        "prod = 1\n",
        "while(n):\n",
        "    r = n%10\n",
        "    sum = sum+r\n",
        "    prod = prod * r\n",
        "    n=n//10\n",
        "\n",
        "if (sum==prod):\n",
        "    print(\"spy\")\n",
        "else:\n",
        "    print(\"not spy\")"
      ],
      "metadata": {
        "colab": {
          "base_uri": "https://localhost:8080/"
        },
        "id": "BIPi2cfm1GOA",
        "outputId": "f1dc6f74-1c8a-47ff-dd91-998c281a1ad6"
      },
      "execution_count": null,
      "outputs": [
        {
          "output_type": "stream",
          "name": "stdout",
          "text": [
            "enter no. : 1421\n",
            "spy\n"
          ]
        }
      ]
    },
    {
      "cell_type": "code",
      "source": [
        "#10 write a pgrm to generate the fibonacci series & fibonacci no.s of a given no. n\n",
        "n=int(input(\"enter end no. : \"))\n",
        "n1=0\n",
        "n2=1\n",
        "print(\"series :\",n1,n2,end=' ')\n",
        "for i in range (n-2):\n",
        "    n3=n1+n2\n",
        "    n1=n2\n",
        "    n2=n3\n",
        "    print(n3,end=' ')"
      ],
      "metadata": {
        "colab": {
          "base_uri": "https://localhost:8080/"
        },
        "id": "9eWgi8_K1JeN",
        "outputId": "bc6828ca-3a04-4e6d-f774-f5ff434c4614"
      },
      "execution_count": 10,
      "outputs": [
        {
          "output_type": "stream",
          "name": "stdout",
          "text": [
            "enter end no. : 7\n",
            "series : 0 1 1 2 3 5 8 "
          ]
        }
      ]
    },
    {
      "cell_type": "code",
      "source": [
        "#11 write a pgrm to check if a number is palindrome or not\n",
        "n=int(input(\"enter no. : \"))\n",
        "temp=n\n",
        "l1=[]\n",
        "while(n):\n",
        "    n1 = n%10\n",
        "    l1.append(n1)\n",
        "    n=n//10\n",
        "i = int(''.join(map(str, l1)))                #list to int conversion\n",
        "\n",
        "if(i==temp):\n",
        "    print(\"pal\")\n",
        "else:\n",
        "    print(\"not pal\")\n",
        "\n",
        "\"\"\"\n",
        "alternate soln\n",
        "n=int(input(\"enter no :\"))\n",
        "temp = n\n",
        "rev = 0\n",
        "while(n):\n",
        "    r = n%10\n",
        "    rev = rev*10 + r\n",
        "    n = n//10\n",
        "\n",
        "if (rev==temp):\n",
        "    print(\"pal\")\n",
        "else:\n",
        "    print(\"not pal\")\n",
        "\"\"\""
      ],
      "metadata": {
        "colab": {
          "base_uri": "https://localhost:8080/"
        },
        "id": "P2ChVGVx1hGj",
        "outputId": "912955c9-7dd6-470e-da45-50d566c28455"
      },
      "execution_count": null,
      "outputs": [
        {
          "output_type": "stream",
          "name": "stdout",
          "text": [
            "enter no. : 1331\n",
            "pal\n"
          ]
        }
      ]
    },
    {
      "cell_type": "code",
      "source": [
        "#12 convert a no. from negative to positive\n",
        "n=int(input(\"enter neg no. : \"))\n",
        "neg = abs(n)\n",
        "print(neg)\n",
        "\n",
        "\"\"\"\n",
        "alternate soln\n",
        "pos = -1 * n\n",
        "print(\"pos : \",pos)\n",
        "\"\"\""
      ],
      "metadata": {
        "colab": {
          "base_uri": "https://localhost:8080/",
          "height": 70
        },
        "id": "FiYNRmLZ2pVC",
        "outputId": "96fbad44-e91a-4324-80d8-90b088558ba4"
      },
      "execution_count": 11,
      "outputs": [
        {
          "output_type": "stream",
          "name": "stdout",
          "text": [
            "enter neg no. : -898\n",
            "898\n"
          ]
        },
        {
          "output_type": "execute_result",
          "data": {
            "text/plain": [
              "'\\nalternate soln\\npos = -1 * n\\nprint(\"pos : \",pos)\\n'"
            ],
            "application/vnd.google.colaboratory.intrinsic+json": {
              "type": "string"
            }
          },
          "metadata": {},
          "execution_count": 11
        }
      ]
    },
    {
      "cell_type": "code",
      "source": [
        "#13 find the factorial of a no.\n",
        "def fact(n):\n",
        "    if (n==0):\n",
        "        return 1\n",
        "    if(n==1):\n",
        "        return 1\n",
        "    else:\n",
        "        f = n * fact(n-1)\n",
        "    return f\n",
        "\n",
        "n=int(input(\"Enter the no. : \"))\n",
        "fc=fact(n)\n",
        "print(\"fact is : \",fc)"
      ],
      "metadata": {
        "colab": {
          "base_uri": "https://localhost:8080/"
        },
        "id": "g9Tfx-Ie4YrX",
        "outputId": "afe08a82-b945-4b6f-c5b7-89bf4e28a0d3"
      },
      "execution_count": null,
      "outputs": [
        {
          "output_type": "stream",
          "name": "stdout",
          "text": [
            "Enter the no. : 5\n",
            "fact is :  120\n"
          ]
        }
      ]
    },
    {
      "cell_type": "code",
      "source": [
        "#14 display the multiplication table\n",
        "n=int(input(\"enter no. : \"))\n",
        "r=int(input(\"enter range : \"))\n",
        "print(\"table of\",n,\"is : \")\n",
        "for i in range(1,r+1):\n",
        "    print(n*i)"
      ],
      "metadata": {
        "id": "AbeppVOo4bX8",
        "colab": {
          "base_uri": "https://localhost:8080/"
        },
        "outputId": "63f8040c-d345-47ba-d5ff-e75cff88c0fa"
      },
      "execution_count": null,
      "outputs": [
        {
          "output_type": "stream",
          "name": "stdout",
          "text": [
            "enter no. : 6\n",
            "enter range : 20\n",
            "table of 6 is : \n",
            "6\n",
            "12\n",
            "18\n",
            "24\n",
            "30\n",
            "36\n",
            "42\n",
            "48\n",
            "54\n",
            "60\n",
            "66\n",
            "72\n",
            "78\n",
            "84\n",
            "90\n",
            "96\n",
            "102\n",
            "108\n",
            "114\n",
            "120\n"
          ]
        }
      ]
    },
    {
      "cell_type": "code",
      "source": [
        "#15 identify  the leap year or not\n",
        "yr=int(input(\"enter year : \"))\n",
        "leap = False\n",
        "if (yr % 4 == 0):\n",
        "    if (yr % 100 == 0):\n",
        "        if (yr % 400 == 0):\n",
        "            leap = True\n",
        "        else:\n",
        "            leap = False\n",
        "    else:\n",
        "        leap = True\n",
        "else:\n",
        "    leap = False\n",
        "print(leap)"
      ],
      "metadata": {
        "colab": {
          "base_uri": "https://localhost:8080/"
        },
        "id": "HXv8_MD84eyR",
        "outputId": "a882d136-11e9-4341-93f0-62fb061b303a"
      },
      "execution_count": 14,
      "outputs": [
        {
          "output_type": "stream",
          "name": "stdout",
          "text": [
            "enter year : 2004\n",
            "True\n"
          ]
        }
      ]
    }
  ]
}